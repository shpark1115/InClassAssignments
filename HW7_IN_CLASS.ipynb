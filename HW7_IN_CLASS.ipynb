{
  "nbformat": 4,
  "nbformat_minor": 0,
  "metadata": {
    "colab": {
      "provenance": []
    },
    "kernelspec": {
      "name": "python3",
      "display_name": "Python 3"
    },
    "language_info": {
      "name": "python"
    }
  },
  "cells": [
    {
      "cell_type": "markdown",
      "source": [
        "# 1.) Import an asset price from Yahoo Finance"
      ],
      "metadata": {
        "id": "6dJuZDx9qWeM"
      }
    },
    {
      "cell_type": "code",
      "source": [
        "pip install yfinance"
      ],
      "metadata": {
        "colab": {
          "base_uri": "https://localhost:8080/"
        },
        "id": "QxUUnTVTrx3m",
        "outputId": "184a82bc-26cd-4cf9-ffb7-4f50439c6cfb"
      },
      "execution_count": 1,
      "outputs": [
        {
          "output_type": "stream",
          "name": "stdout",
          "text": [
            "Looking in indexes: https://pypi.org/simple, https://us-python.pkg.dev/colab-wheels/public/simple/\n",
            "Collecting yfinance\n",
            "  Downloading yfinance-0.2.12-py2.py3-none-any.whl (59 kB)\n",
            "\u001b[2K     \u001b[90m━━━━━━━━━━━━━━━━━━━━━━━━━━━━━━━━━━━━━━━━\u001b[0m \u001b[32m59.2/59.2 KB\u001b[0m \u001b[31m1.2 MB/s\u001b[0m eta \u001b[36m0:00:00\u001b[0m\n",
            "\u001b[?25hCollecting html5lib>=1.1\n",
            "  Downloading html5lib-1.1-py2.py3-none-any.whl (112 kB)\n",
            "\u001b[2K     \u001b[90m━━━━━━━━━━━━━━━━━━━━━━━━━━━━━━━━━━━━━━━\u001b[0m \u001b[32m112.2/112.2 KB\u001b[0m \u001b[31m5.7 MB/s\u001b[0m eta \u001b[36m0:00:00\u001b[0m\n",
            "\u001b[?25hRequirement already satisfied: pytz>=2022.5 in /usr/local/lib/python3.8/dist-packages (from yfinance) (2022.7.1)\n",
            "Collecting beautifulsoup4>=4.11.1\n",
            "  Downloading beautifulsoup4-4.11.2-py3-none-any.whl (129 kB)\n",
            "\u001b[2K     \u001b[90m━━━━━━━━━━━━━━━━━━━━━━━━━━━━━━━━━━━━━━━\u001b[0m \u001b[32m129.4/129.4 KB\u001b[0m \u001b[31m7.4 MB/s\u001b[0m eta \u001b[36m0:00:00\u001b[0m\n",
            "\u001b[?25hRequirement already satisfied: multitasking>=0.0.7 in /usr/local/lib/python3.8/dist-packages (from yfinance) (0.0.11)\n",
            "Collecting cryptography>=3.3.2\n",
            "  Downloading cryptography-39.0.1-cp36-abi3-manylinux_2_28_x86_64.whl (4.2 MB)\n",
            "\u001b[2K     \u001b[90m━━━━━━━━━━━━━━━━━━━━━━━━━━━━━━━━━━━━━━━━\u001b[0m \u001b[32m4.2/4.2 MB\u001b[0m \u001b[31m36.5 MB/s\u001b[0m eta \u001b[36m0:00:00\u001b[0m\n",
            "\u001b[?25hRequirement already satisfied: numpy>=1.16.5 in /usr/local/lib/python3.8/dist-packages (from yfinance) (1.22.4)\n",
            "Requirement already satisfied: lxml>=4.9.1 in /usr/local/lib/python3.8/dist-packages (from yfinance) (4.9.2)\n",
            "Requirement already satisfied: pandas>=1.3.0 in /usr/local/lib/python3.8/dist-packages (from yfinance) (1.3.5)\n",
            "Requirement already satisfied: appdirs>=1.4.4 in /usr/local/lib/python3.8/dist-packages (from yfinance) (1.4.4)\n",
            "Collecting frozendict>=2.3.4\n",
            "  Downloading frozendict-2.3.5-cp38-cp38-manylinux_2_17_x86_64.manylinux2014_x86_64.whl (111 kB)\n",
            "\u001b[2K     \u001b[90m━━━━━━━━━━━━━━━━━━━━━━━━━━━━━━━━━━━━━━━\u001b[0m \u001b[32m111.2/111.2 KB\u001b[0m \u001b[31m8.3 MB/s\u001b[0m eta \u001b[36m0:00:00\u001b[0m\n",
            "\u001b[?25hCollecting requests>=2.26\n",
            "  Downloading requests-2.28.2-py3-none-any.whl (62 kB)\n",
            "\u001b[2K     \u001b[90m━━━━━━━━━━━━━━━━━━━━━━━━━━━━━━━━━━━━━━━━\u001b[0m \u001b[32m62.8/62.8 KB\u001b[0m \u001b[31m2.7 MB/s\u001b[0m eta \u001b[36m0:00:00\u001b[0m\n",
            "\u001b[?25hCollecting soupsieve>1.2\n",
            "  Downloading soupsieve-2.4-py3-none-any.whl (37 kB)\n",
            "Requirement already satisfied: cffi>=1.12 in /usr/local/lib/python3.8/dist-packages (from cryptography>=3.3.2->yfinance) (1.15.1)\n",
            "Requirement already satisfied: six>=1.9 in /usr/local/lib/python3.8/dist-packages (from html5lib>=1.1->yfinance) (1.15.0)\n",
            "Requirement already satisfied: webencodings in /usr/local/lib/python3.8/dist-packages (from html5lib>=1.1->yfinance) (0.5.1)\n",
            "Requirement already satisfied: python-dateutil>=2.7.3 in /usr/local/lib/python3.8/dist-packages (from pandas>=1.3.0->yfinance) (2.8.2)\n",
            "Requirement already satisfied: urllib3<1.27,>=1.21.1 in /usr/local/lib/python3.8/dist-packages (from requests>=2.26->yfinance) (1.24.3)\n",
            "Requirement already satisfied: idna<4,>=2.5 in /usr/local/lib/python3.8/dist-packages (from requests>=2.26->yfinance) (2.10)\n",
            "Requirement already satisfied: charset-normalizer<4,>=2 in /usr/local/lib/python3.8/dist-packages (from requests>=2.26->yfinance) (3.0.1)\n",
            "Requirement already satisfied: certifi>=2017.4.17 in /usr/local/lib/python3.8/dist-packages (from requests>=2.26->yfinance) (2022.12.7)\n",
            "Requirement already satisfied: pycparser in /usr/local/lib/python3.8/dist-packages (from cffi>=1.12->cryptography>=3.3.2->yfinance) (2.21)\n",
            "Installing collected packages: soupsieve, requests, html5lib, frozendict, cryptography, beautifulsoup4, yfinance\n",
            "  Attempting uninstall: requests\n",
            "    Found existing installation: requests 2.25.1\n",
            "    Uninstalling requests-2.25.1:\n",
            "      Successfully uninstalled requests-2.25.1\n",
            "  Attempting uninstall: html5lib\n",
            "    Found existing installation: html5lib 1.0.1\n",
            "    Uninstalling html5lib-1.0.1:\n",
            "      Successfully uninstalled html5lib-1.0.1\n",
            "  Attempting uninstall: beautifulsoup4\n",
            "    Found existing installation: beautifulsoup4 4.6.3\n",
            "    Uninstalling beautifulsoup4-4.6.3:\n",
            "      Successfully uninstalled beautifulsoup4-4.6.3\n",
            "Successfully installed beautifulsoup4-4.11.2 cryptography-39.0.1 frozendict-2.3.5 html5lib-1.1 requests-2.28.2 soupsieve-2.4 yfinance-0.2.12\n"
          ]
        }
      ]
    },
    {
      "cell_type": "code",
      "execution_count": 2,
      "metadata": {
        "colab": {
          "base_uri": "https://localhost:8080/"
        },
        "id": "Y3bcwJb4rp93",
        "outputId": "62de4770-b425-49dc-8490-7a8bc22d1e2f"
      },
      "outputs": [
        {
          "output_type": "stream",
          "name": "stdout",
          "text": [
            "\r[*********************100%***********************]  1 of 1 completed\n"
          ]
        }
      ],
      "source": [
        "import yfinance as yf\n",
        "import numpy as np\n",
        "import pandas as pd\n",
        "from sklearn.preprocessing import MinMaxScaler\n",
        "from tensorflow.keras.models import Sequential\n",
        "from tensorflow.keras.layers import Dense, LSTM, Dropout\n",
        "\n",
        "\n",
        "########################################\n",
        "####Pick your ticker and time period####\n",
        "########################################\n",
        "stock_data = yf.download(\"AAPL\", start=\"1990-01-01\", end=\"2023-02-24\")\n",
        "\n",
        "\n",
        "# Preprocess data\n",
        "scaled_data = np.array(stock_data[\"Close\"].pct_change().dropna()).reshape(-1,1)\n",
        "\n",
        "\n",
        "# Split data into training and test sets\n",
        "training_data_len = int(len(scaled_data) * 0.8)\n",
        "train_data = scaled_data[0:training_data_len, :]"
      ]
    },
    {
      "cell_type": "markdown",
      "source": [
        "# 2.) Create your x_train/y_train data so that your RNN uses percentage change data to make a binary forecast where the stock moves up or down the next day\n",
        "# Build an RNN Architecture accordingly"
      ],
      "metadata": {
        "id": "foHoGy9hq3_o"
      }
    },
    {
      "cell_type": "code",
      "source": [
        "#############################################################\n",
        "####Pick your input size and edit to make binary forecast####\n",
        "############################################################# \n",
        "input_size = 5      # number of time lag \n",
        "\n",
        "# # create x_train/y_train\n",
        "# x_train = []\n",
        "# y_train = []\n",
        "\n",
        "# for i in range(input_size, len(train_data)):\n",
        "#     x_train.append(train_data[i-input_size:i, 0])\n",
        "#     y_train.append(np.where(train_data[i] >=0, 1, -1)) # 1 if it went up, 0 if it went down - classification\n",
        "\n",
        "# x_train, y_train = np.array(x_train), np.array(y_train)\n",
        "# x_train = np.reshape(x_train, (x_train.shape[0], x_train.shape[1], 1))\n",
        "# x_train\n",
        "\n",
        "# Define function\n",
        "def make_input(train_data, input_size):\n",
        "    x_train = []\n",
        "    y_train = []\n",
        "    for i in range(input_size, len(train_data)):\n",
        "        x_train.append(train_data[i-input_size:i, 0])\n",
        "        y_train.append(np.where(train_data[i] >=0, 1, -1)) # 1 if it went up, 0 if it went down - classification\n",
        "    x_train, y_train = np.array(x_train), np.array(y_train)\n",
        "    x_train = np.reshape(x_train, (x_train.shape[0], x_train.shape[1], 1))\n",
        "    return x_train, y_train\n",
        "\n",
        "x_train, y_train = make_input(train_data, input_size)\n",
        "x_train"
      ],
      "metadata": {
        "colab": {
          "base_uri": "https://localhost:8080/"
        },
        "id": "NVLk0b3Ip29S",
        "outputId": "c0ca328c-611f-4dfd-a169-10333f5b3b64"
      },
      "execution_count": 3,
      "outputs": [
        {
          "output_type": "execute_result",
          "data": {
            "text/plain": [
              "array([[[ 0.00671094],\n",
              "        [ 0.00333617],\n",
              "        [ 0.00332206],\n",
              "        [ 0.00662204],\n",
              "        [-0.00986776]],\n",
              "\n",
              "       [[ 0.00333617],\n",
              "        [ 0.00332206],\n",
              "        [ 0.00662204],\n",
              "        [-0.00986776],\n",
              "        [-0.04318949]],\n",
              "\n",
              "       [[ 0.00332206],\n",
              "        [ 0.00662204],\n",
              "        [-0.00986776],\n",
              "        [-0.04318949],\n",
              "        [-0.0416671 ]],\n",
              "\n",
              "       ...,\n",
              "\n",
              "       [[-0.0280957 ],\n",
              "        [-0.01456103],\n",
              "        [ 0.01684045],\n",
              "        [ 0.00865483],\n",
              "        [ 0.01271183]],\n",
              "\n",
              "       [[-0.01456103],\n",
              "        [ 0.01684045],\n",
              "        [ 0.00865483],\n",
              "        [ 0.01271183],\n",
              "        [ 0.00303348]],\n",
              "\n",
              "       [[ 0.01684045],\n",
              "        [ 0.00865483],\n",
              "        [ 0.01271183],\n",
              "        [ 0.00303348],\n",
              "        [-0.00938577]]])"
            ]
          },
          "metadata": {},
          "execution_count": 3
        }
      ]
    },
    {
      "cell_type": "code",
      "source": [
        "###################################\n",
        "####Build Your RNN Architecture####\n",
        "###################################\n",
        "# model (1)\n",
        "# model = Sequential()\n",
        "# model.add(LSTM(x_train.shape[1], return_sequences=True, input_shape=(x_train.shape[1], 1)))\n",
        "# model.add(LSTM(x_train.shape[1], input_shape=(x_train.shape[1], 1)))\n",
        "# model.add(Dense(20, activation='relu'))\n",
        "# model.add(Dense(10, activation='relu'))\n",
        "# model.add(Dense(5, activation='relu'))\n",
        "# model.add(Dense(1, activation='sigmoid')) # last layer should correspond to classification sigmoid/softmax\n",
        "\n",
        "# model.compile(optimizer='adam', loss='mean_squared_error')\n",
        "# model.fit(x_train, y_train, batch_size=1, epochs=3)\n",
        "\n",
        "# model (2)\n",
        "model = Sequential()\n",
        "model.add(LSTM(x_train.shape[1], input_shape=(x_train.shape[1], 1)))\n",
        "model.add(Dense(10, activation='relu'))\n",
        "model.add(Dense(5, activation='relu'))\n",
        "model.add(Dense(1, activation='sigmoid')) # last layer should correspond to classification sigmoid/softmax\n",
        "\n",
        "model.compile(optimizer='adam', loss='mean_squared_error')\n",
        "model.fit(x_train, y_train, batch_size=1, epochs=3)"
      ],
      "metadata": {
        "id": "5qGFB5HfqcVd",
        "colab": {
          "base_uri": "https://localhost:8080/"
        },
        "outputId": "08574d86-7c70-481a-80b0-d2d6cf483eba"
      },
      "execution_count": 4,
      "outputs": [
        {
          "output_type": "stream",
          "name": "stdout",
          "text": [
            "Epoch 1/3\n",
            "6675/6675 [==============================] - 25s 3ms/step - loss: 1.0054\n",
            "Epoch 2/3\n",
            "6675/6675 [==============================] - 24s 4ms/step - loss: 0.9992\n",
            "Epoch 3/3\n",
            "6675/6675 [==============================] - 25s 4ms/step - loss: 0.9981\n"
          ]
        },
        {
          "output_type": "execute_result",
          "data": {
            "text/plain": [
              "<keras.callbacks.History at 0x7f7fa0767400>"
            ]
          },
          "metadata": {},
          "execution_count": 4
        }
      ]
    },
    {
      "cell_type": "code",
      "source": [
        "# Look at the predictions\n",
        "predictions_in = model.predict(x_train)\n",
        "print(predictions_in)\n",
        "\n",
        "# Find the best threshold (criteria: accuracy)\n",
        "from sklearn.metrics import accuracy_score\n",
        "\n",
        "threshold = []\n",
        "accuracy = []\n",
        "\n",
        "for th in np.arange(0.02, 0.09, 0.0001):\n",
        "    y_pred_in = np.where(predictions_in > th, 1, 0)\n",
        "    threshold.append(th)\n",
        "    accuracy.append(accuracy_score(y_train, y_pred_in))\n",
        "\n",
        "threshold_f = pd.DataFrame(list(zip(accuracy)), index=threshold).idxmax()[0]\n",
        "print('threshold: ', threshold_f)"
      ],
      "metadata": {
        "colab": {
          "base_uri": "https://localhost:8080/"
        },
        "id": "4LwUl9g25tJA",
        "outputId": "1a01bd60-9d23-4e11-be25-c02d93ec6074"
      },
      "execution_count": 5,
      "outputs": [
        {
          "output_type": "stream",
          "name": "stdout",
          "text": [
            "209/209 [==============================] - 1s 2ms/step\n",
            "[[0.03061132]\n",
            " [0.03107343]\n",
            " [0.03130232]\n",
            " ...\n",
            " [0.03042584]\n",
            " [0.03041265]\n",
            " [0.0305466 ]]\n",
            "threshold:  0.02\n"
          ]
        }
      ]
    },
    {
      "cell_type": "markdown",
      "source": [
        "# 3.) Test your model and compare insample Accurracy, insample random walk assumption Accuracy, Out of sample Accuracy and out of sample random walk assumption Accuracy using a bar chart"
      ],
      "metadata": {
        "id": "yFhO9vMjsWPk"
      }
    },
    {
      "cell_type": "code",
      "source": [
        "# fit the model to the test data\n",
        "test_data = scaled_data[training_data_len - input_size:, :]\n",
        "x_test, y_test = make_input(test_data, input_size)\n",
        "\n",
        "# make predictions\n",
        "predictions_in = model.predict(x_train)  # probability\n",
        "y_pred_in = np.where(predictions_in > threshold_f, 1, 0)\n",
        "predictions_out = model.predict(x_test)  # probability\n",
        "y_pred = np.where(predictions_out > threshold_f, 1, 0)\n",
        "\n",
        "# random walk predictions (random walk assumes the price change to be 0, which is classified as 1 in our model)\n",
        "y_rw_in = np.ones(len(y_pred_in))\n",
        "y_rw = np.ones(len(y_pred))\n",
        "\n",
        "# accuracy scores\n",
        "acc_in = accuracy_score(y_train, y_pred_in)\n",
        "acc_in_rw = accuracy_score(y_train, y_rw_in)\n",
        "acc_out = accuracy_score(y_test, y_pred)\n",
        "acc_out_rw = accuracy_score(y_test, y_rw)"
      ],
      "metadata": {
        "id": "r1Xj6Ji-rwnM",
        "colab": {
          "base_uri": "https://localhost:8080/"
        },
        "outputId": "fdc5b228-4920-4690-e940-a3ada36c10dd"
      },
      "execution_count": 6,
      "outputs": [
        {
          "output_type": "stream",
          "name": "stdout",
          "text": [
            "209/209 [==============================] - 0s 2ms/step\n",
            "53/53 [==============================] - 0s 3ms/step\n"
          ]
        }
      ]
    },
    {
      "cell_type": "code",
      "source": [
        "import seaborn as sns\n",
        "import matplotlib.pyplot as plt\n",
        "\n",
        "x = np.array(['In sample', 'In sample r.w', 'out-of-sample', 'out-of-sample r.w'])\n",
        "y = np.array([acc_in, acc_in_rw, acc_out, acc_out_rw])\n",
        "\n",
        "### Plot\n",
        "# Defining the plot size\n",
        "plt.figure(figsize=(8, 4))\n",
        " \n",
        "# Defining the values for x-axis, y-axis\n",
        "# and from which dataframe the values are to be picked\n",
        "plots = sns.barplot(x, y)\n",
        " \n",
        "# Iterating over the bars one-by-one\n",
        "for bar in plots.patches:\n",
        "   \n",
        "  # Using Matplotlib's annotate function and\n",
        "  # passing the coordinates where the annotation shall be done\n",
        "  # x-coordinate: bar.get_x() + bar.get_width() / 2\n",
        "  # y-coordinate: bar.get_height()\n",
        "  # free space to be left to make graph pleasing: (0, 8)\n",
        "  # ha and va stand for the horizontal and vertical alignment\n",
        "  plots.annotate(format(bar.get_height(), '.4f'),\n",
        "                   (bar.get_x() + bar.get_width() / 2,\n",
        "                    bar.get_height()), ha='center', va='center',\n",
        "                   size=10, xytext=(0, 8),\n",
        "                   textcoords='offset points')\n",
        " \n",
        "# Setting the label for y-axis\n",
        "plt.ylabel(\"Accuracy\", size=10)\n",
        "plt.ylim(0,0.6)\n",
        " \n",
        "# Setting the title for the graph\n",
        "plt.title(\"Accuracy scores compared to random walk predictions\", size=15)\n",
        " \n",
        "# Finally showing the plot\n",
        "plt.show()"
      ],
      "metadata": {
        "colab": {
          "base_uri": "https://localhost:8080/",
          "height": 339
        },
        "id": "gJseJ7s15g-q",
        "outputId": "23a49ea5-292a-4e2b-ee03-c4f1a5c2017a"
      },
      "execution_count": 7,
      "outputs": [
        {
          "output_type": "stream",
          "name": "stderr",
          "text": [
            "/usr/local/lib/python3.8/dist-packages/seaborn/_decorators.py:36: FutureWarning: Pass the following variables as keyword args: x, y. From version 0.12, the only valid positional argument will be `data`, and passing other arguments without an explicit keyword will result in an error or misinterpretation.\n",
            "  warnings.warn(\n"
          ]
        },
        {
          "output_type": "display_data",
          "data": {
            "text/plain": [
              "<Figure size 576x288 with 1 Axes>"
            ],
            "image/png": "[encoded data removed]"
          },
          "metadata": {
            "needs_background": "light"
          }
        }
      ]
    },
    {
      "cell_type": "markdown",
      "source": [
        "# 4.) Plot in and out of sample accuracy - DON'T DO IT"
      ],
      "metadata": {
        "id": "8bncNwh8tKiE"
      }
    },
    {
      "cell_type": "code",
      "source": [
        "import matplotlib.pyplot as plt\n",
        "\n",
        "# Make predictions on full dataset\n",
        "\n",
        "test_predict = model.predict(x_test)\n",
        "test_predictions = (test_predict+1).reshape(1,-1) * np.cumprod(y_test+1)\n",
        "\n",
        "train_predict = model.predict(x_train)\n",
        "train_predictions = (train_predict+1).reshape(1,-1) * np.cumprod(y_train+1)\n",
        "\n",
        "\n",
        "\n",
        "plt.plot(stock_data[:training_data_len- input_size].index, np.cumprod(y_train+1), label=\"Training Data\")\n",
        "plt.plot(stock_data[:training_data_len- input_size].index, train_predictions[0], label=\"Training Predictions\")\n",
        "end_val = np.cumprod(y_train+1)[-1]\n",
        "test_predict = model.predict(x_test)\n",
        "test_predictions = (test_predict+1).reshape(1,-1) * (np.cumprod((y_test+1))*end_val)\n",
        "plt.plot(stock_data[training_data_len+1:].index, np.cumprod((y_test+1))*end_val,label=\"Test Data\")\n",
        "plt.plot(stock_data[training_data_len+1:].index, test_predictions[0], label=\"Test Predictions\")\n",
        "plt.xlabel(\"Date\")\n",
        "plt.ylabel(\"Stock Price\")\n",
        "plt.legend()\n",
        "plt.show()"
      ],
      "metadata": {
        "id": "d698mdExtfHp"
      },
      "execution_count": null,
      "outputs": []
    },
    {
      "cell_type": "markdown",
      "source": [
        "#5.) Write an observation/conclusion about the graphs from Q4 and Q3"
      ],
      "metadata": {
        "id": "bK_jyyEEtTUB"
      }
    },
    {
      "cell_type": "markdown",
      "source": [
        "The LSTM model performed poorly and had the same accuracy scores as the random walk predictions. "
      ],
      "metadata": {
        "id": "I8S4Fqjb7YVi"
      }
    },
    {
      "cell_type": "markdown",
      "source": [
        "# 6.) Create a parameter for number of lags in your input layer. Do a 3-fold CV to test three different time lags. i.e. Tested using 5,10,20 days of previous price data to forecast"
      ],
      "metadata": {
        "id": "pFtrp-lmtw6t"
      }
    },
    {
      "cell_type": "code",
      "source": [
        "import warnings\n",
        "warnings.filterwarnings('ignore')\n",
        "from sklearn.model_selection import GridSearchCV\n",
        "from keras.wrappers.scikit_learn import KerasClassifier\n",
        "from keras.wrappers.scikit_learn import KerasRegressor\n",
        "\n",
        "# Define the Keras model\n",
        "###Edit here to create your optimizer \n",
        "def create_model(input_size=input_size):\n",
        "    x_train, y_train = make_input(train_data, input_size)\n",
        "    model = Sequential()\n",
        "    model.add(LSTM(x_train.shape[1], input_shape=(x_train.shape[1], 1)))\n",
        "    model.add(Dense(10, activation='relu'))\n",
        "    model.add(Dense(5, activation='relu'))\n",
        "    model.add(Dense(1, activation='sigmoid')) # last layer should correspond to classification sigmoid/softmax\n",
        "    model.compile(loss='binary_crossentropy', optimizer='adam', metrics=['accuracy'])\n",
        "    # model.summary()\n",
        "    return model\n",
        "\n",
        "# Wrap the Keras model in a scikit-learn compatible estimator\n",
        "model = KerasClassifier(build_fn=create_model, verbose=0)\n",
        "\n",
        "# Define the hyperparameters to search over\n",
        "# input_size = [5,10,20]\n",
        "# optimizers = ['rmsprop', 'adam', 'Adamax', 'sgd']\n",
        "# param_grid = dict(optimizer=optimizers)\n",
        "# param_grid = dict(input_size=input_size, optimizer=optimizers)\n",
        "param_grid={'input_size':[5,10,20]}\n",
        "\n",
        "# Perform the grid search over the hyperparameters\n",
        "grid = GridSearchCV(estimator=model, param_grid=param_grid, n_jobs=-1, cv=3)\n",
        "grid_result = grid.fit(x_train, y_train) \n",
        "\n",
        "# Print the results\n",
        "print(\"Best: %f using %s\" % (grid_result.best_score_, grid_result.best_params_))"
      ],
      "metadata": {
        "colab": {
          "base_uri": "https://localhost:8080/"
        },
        "id": "11cYy6ADK5Tj",
        "outputId": "71ef7ba2-2b93-4534-ab36-954676caf539"
      },
      "execution_count": 11,
      "outputs": [
        {
          "output_type": "stream",
          "name": "stdout",
          "text": [
            "Best: 0.523595 using {'input_size': 5}\n"
          ]
        }
      ]
    },
    {
      "cell_type": "code",
      "source": [
        "################################################\n",
        "##### TEST - OTHER HYPERPARAMETER\n",
        "################################################\n",
        "\n",
        "from sklearn.model_selection import GridSearchCV\n",
        "from keras.wrappers.scikit_learn import KerasClassifier\n",
        "from keras.wrappers.scikit_learn import KerasRegressor\n",
        "\n",
        "# Define the Keras model\n",
        "###Edit here to create your optimizer \n",
        "def create_model(optimizer='adam'):\n",
        "    x_train, y_train = make_input(train_data, 5)\n",
        "    model = Sequential()\n",
        "    model.add(LSTM(x_train.shape[1], input_shape=(x_train.shape[1], 1)))\n",
        "    model.add(Dense(10, activation='relu'))\n",
        "    model.add(Dense(5, activation='relu'))\n",
        "    model.add(Dense(1, activation='sigmoid')) # last layer should correspond to classification sigmoid/softmax\n",
        "    model.compile(loss='binary_crossentropy', optimizer=optimizer, metrics=['accuracy'])\n",
        "    # model.summary()\n",
        "    return model\n",
        "\n",
        "# Wrap the Keras model in a scikit-learn compatible estimator\n",
        "model = KerasClassifier(build_fn=create_model, verbose=0)\n",
        "\n",
        "# Define the hyperparameters to search over\n",
        "# input_size = [5,10,20]\n",
        "optimizers = ['rmsprop', 'adam', 'Adamax', 'sgd']\n",
        "param_grid = dict(optimizer=optimizers)\n",
        "# param_grid = dict(input_size=input_size)\n",
        "# param_grid={'input_size':[5,10,20]}\n",
        "\n",
        "# Perform the grid search over the hyperparameters\n",
        "grid = GridSearchCV(estimator=model, param_grid=param_grid, n_jobs=-1, cv=3)\n",
        "grid_result = grid.fit(x_train, y_train)\n",
        "\n",
        "# Print the results\n",
        "print(\"Best: %f using %s\" % (grid_result.best_score_, grid_result.best_params_))"
      ],
      "metadata": {
        "colab": {
          "base_uri": "https://localhost:8080/"
        },
        "id": "zS92cRuWbrEr",
        "outputId": "f804f5e1-cdb9-414e-873e-e3b4b0510b73"
      },
      "execution_count": 12,
      "outputs": [
        {
          "output_type": "stream",
          "name": "stdout",
          "text": [
            "Best: 0.523595 using {'optimizer': 'rmsprop'}\n"
          ]
        }
      ]
    }
  ]
}