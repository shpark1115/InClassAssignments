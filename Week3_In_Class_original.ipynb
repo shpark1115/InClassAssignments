{
  "nbformat": 4,
  "nbformat_minor": 0,
  "metadata": {
    "colab": {
      "provenance": []
    },
    "kernelspec": {
      "name": "python3",
      "display_name": "Python 3"
    },
    "language_info": {
      "name": "python"
    }
  },
  "cells": [
    {
      "cell_type": "markdown",
      "source": [
        "# 1.) Import the Credit Card Fraud Data From CCLE"
      ],
      "metadata": {
        "id": "7ywSRtNI4s5h"
      }
    },
    {
      "cell_type": "code",
      "execution_count": 2,
      "metadata": {
        "id": "nsG1QV154GYZ"
      },
      "outputs": [],
      "source": [
        "import pandas as pd\n",
        "from google.colab import drive\n",
        "import matplotlib.pyplot as plt\n",
        "import numpy as np"
      ]
    },
    {
      "cell_type": "code",
      "source": [
        "drive.mount('/content/gdrive/', force_remount = True)"
      ],
      "metadata": {
        "id": "Iku0T8Ou4Lcu"
      },
      "execution_count": null,
      "outputs": []
    },
    {
      "cell_type": "code",
      "source": [
        "df = pd.read_csv(\"/content/gdrive/MyDrive/ECON441B/Data/fraudTest.csv\")"
      ],
      "metadata": {
        "id": "KJQfo8mz43Kz"
      },
      "execution_count": null,
      "outputs": []
    },
    {
      "cell_type": "code",
      "source": [
        "df.head()"
      ],
      "metadata": {
        "id": "mKWSRv-q98wE"
      },
      "execution_count": null,
      "outputs": []
    },
    {
      "cell_type": "markdown",
      "source": [
        "# 2.) Select four columns to use as features (one just be trans_date_trans)"
      ],
      "metadata": {
        "id": "8VsnpGe9-B3p"
      }
    },
    {
      "cell_type": "code",
      "source": [],
      "metadata": {
        "id": "1tpCDMW198ym"
      },
      "execution_count": null,
      "outputs": []
    },
    {
      "cell_type": "code",
      "source": [],
      "metadata": {
        "id": "FZvnpERK981d"
      },
      "execution_count": null,
      "outputs": []
    },
    {
      "cell_type": "code",
      "source": [],
      "metadata": {
        "id": "JvCzIdgO983i"
      },
      "execution_count": null,
      "outputs": []
    },
    {
      "cell_type": "code",
      "source": [],
      "metadata": {
        "id": "f7APv9N3986a"
      },
      "execution_count": null,
      "outputs": []
    },
    {
      "cell_type": "markdown",
      "source": [
        "# 3.) Create a unique variable out of trans_date."
      ],
      "metadata": {
        "id": "lbkpNPyN-Gnk"
      }
    },
    {
      "cell_type": "code",
      "source": [],
      "metadata": {
        "id": "cNu6ysyV988v"
      },
      "execution_count": null,
      "outputs": []
    },
    {
      "cell_type": "code",
      "source": [],
      "metadata": {
        "id": "xQE60rwv98_F"
      },
      "execution_count": null,
      "outputs": []
    },
    {
      "cell_type": "code",
      "source": [],
      "metadata": {
        "id": "bkfqhq4J99A6"
      },
      "execution_count": null,
      "outputs": []
    },
    {
      "cell_type": "code",
      "source": [],
      "metadata": {
        "id": "4GvhU8UN99DR"
      },
      "execution_count": null,
      "outputs": []
    },
    {
      "cell_type": "code",
      "source": [],
      "metadata": {
        "id": "D7n_cImg99F3"
      },
      "execution_count": null,
      "outputs": []
    },
    {
      "cell_type": "markdown",
      "source": [
        "# 4.) Oversample the data (this will be your training data)."
      ],
      "metadata": {
        "id": "bIJx2jvD-KEI"
      }
    },
    {
      "cell_type": "code",
      "source": [],
      "metadata": {
        "id": "AwXa-bvX99Id"
      },
      "execution_count": 1,
      "outputs": []
    },
    {
      "cell_type": "code",
      "source": [],
      "metadata": {
        "id": "vj5uNeAr99LE"
      },
      "execution_count": 1,
      "outputs": []
    },
    {
      "cell_type": "code",
      "source": [],
      "metadata": {
        "id": "FwLCfa9599RE"
      },
      "execution_count": 1,
      "outputs": []
    },
    {
      "cell_type": "code",
      "source": [],
      "metadata": {
        "id": "pLIndmpE99Tq"
      },
      "execution_count": null,
      "outputs": []
    },
    {
      "cell_type": "code",
      "source": [],
      "metadata": {
        "id": "Wzri7XuG-OXp"
      },
      "execution_count": null,
      "outputs": []
    },
    {
      "cell_type": "markdown",
      "source": [
        "# 5.) Train a Logistic regression."
      ],
      "metadata": {
        "id": "PeurmqI4-OoC"
      }
    },
    {
      "cell_type": "code",
      "source": [],
      "metadata": {
        "id": "DjgQ8BQM99WR"
      },
      "execution_count": null,
      "outputs": []
    },
    {
      "cell_type": "code",
      "source": [],
      "metadata": {
        "id": "IF_H74Ht-RIL"
      },
      "execution_count": null,
      "outputs": []
    },
    {
      "cell_type": "code",
      "source": [],
      "metadata": {
        "id": "udwK0byx-RLA"
      },
      "execution_count": null,
      "outputs": []
    },
    {
      "cell_type": "markdown",
      "source": [
        "# 6.) The company you are working for wants to target at a False Positive rate of 5% what threshold should you use? (Use oversampled data)"
      ],
      "metadata": {
        "id": "6isBwtmL-R4p"
      }
    },
    {
      "cell_type": "code",
      "source": [],
      "metadata": {
        "id": "9fwAhujT-RN4"
      },
      "execution_count": null,
      "outputs": []
    },
    {
      "cell_type": "code",
      "source": [],
      "metadata": {
        "id": "POIuy3rH-RQv"
      },
      "execution_count": null,
      "outputs": []
    },
    {
      "cell_type": "code",
      "source": [],
      "metadata": {
        "id": "g14fgEkT-RTV"
      },
      "execution_count": null,
      "outputs": []
    },
    {
      "cell_type": "code",
      "source": [],
      "metadata": {
        "id": "5gAU63Wc-RWN"
      },
      "execution_count": null,
      "outputs": []
    },
    {
      "cell_type": "markdown",
      "source": [
        "# 7.) If the company makes .02*amt on True transactions and loses -amt on False (Use original data)"
      ],
      "metadata": {
        "id": "aQa3sanl-XUk"
      }
    },
    {
      "cell_type": "code",
      "source": [],
      "metadata": {
        "id": "G-MUv66T-RZE"
      },
      "execution_count": null,
      "outputs": []
    },
    {
      "cell_type": "code",
      "source": [],
      "metadata": {
        "id": "eDtDVSAr-RcM"
      },
      "execution_count": null,
      "outputs": []
    },
    {
      "cell_type": "code",
      "source": [],
      "metadata": {
        "id": "BjOfCQKX-aae"
      },
      "execution_count": null,
      "outputs": []
    },
    {
      "cell_type": "markdown",
      "source": [
        "# 8.) Using Logistic Regression Lasso to inform you. Would you use the selected features in a trusted prediction model?"
      ],
      "metadata": {
        "id": "qrlSpvEh-awn"
      }
    },
    {
      "cell_type": "code",
      "source": [],
      "metadata": {
        "id": "-R3BOgcy-RfD"
      },
      "execution_count": null,
      "outputs": []
    },
    {
      "cell_type": "code",
      "source": [],
      "metadata": {
        "id": "A5Q1iOHl-djx"
      },
      "execution_count": null,
      "outputs": []
    },
    {
      "cell_type": "code",
      "source": [],
      "metadata": {
        "id": "2a1u33ge-dqA"
      },
      "execution_count": null,
      "outputs": []
    }
  ]
}